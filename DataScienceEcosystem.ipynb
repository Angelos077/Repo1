{
 "cells": [
  {
   "cell_type": "markdown",
   "id": "80f161ec-5d2f-43e8-b9cb-a45995041314",
   "metadata": {},
   "source": [
    "# **Data Science Tools and Ecosystem**"
   ]
  },
  {
   "cell_type": "markdown",
   "id": "edad69c8-4e4f-4881-a36a-b6aa3d8423b8",
   "metadata": {},
   "source": [
    "## In this notebook, Data Science Tools and Ecosystem are summarized"
   ]
  },
  {
   "cell_type": "markdown",
   "id": "8cee0322-cdc7-41ff-9273-2e9e205f8442",
   "metadata": {},
   "source": [
    "### Some of the popular languages that Data Scientists use are:"
   ]
  },
  {
   "cell_type": "markdown",
   "id": "c149451c-8114-4e13-8cee-d57a3fba4f00",
   "metadata": {},
   "source": [
    "1. Python\n",
    "2. R\n",
    "3. SQL"
   ]
  },
  {
   "cell_type": "markdown",
   "id": "1d835d47-2ab0-47ec-b6a4-9a19e480c433",
   "metadata": {},
   "source": [
    "**Objectives:** "
   ]
  },
  {
   "cell_type": "markdown",
   "id": "cf2f9cb5-703f-4a81-b9e0-6ad73711cd73",
   "metadata": {},
   "source": [
    "- Python\n",
    "- R\n",
    "- SQL\n"
   ]
  },
  {
   "cell_type": "markdown",
   "id": "243903df-ce62-4a0a-99bc-71c8c6c903c6",
   "metadata": {},
   "source": [
    "### Some of the commonly used libraries used by Data Scientists include:"
   ]
  },
  {
   "cell_type": "markdown",
   "id": "8c66c7e2-985e-40d3-8a2c-dcb0d06d0fa8",
   "metadata": {},
   "source": [
    "1. Numpy\n",
    "2. Matplotlib\n",
    "3. Pandas\n",
    "4. ggplot"
   ]
  },
  {
   "cell_type": "markdown",
   "id": "cf26a0db-2f81-435f-b183-9a2cec87de34",
   "metadata": {},
   "source": [
    "|Data Science Tools|\n",
    "|------------------|\n",
    "|Gitlab|\n",
    "|Jira|\n",
    "|Vs Code|"
   ]
  },
  {
   "cell_type": "markdown",
   "id": "2d8ec372-bfeb-4e7f-b14c-94fbd461b451",
   "metadata": {},
   "source": [
    "### Below are a few examples of evaluating arithmetic expressions in Python"
   ]
  },
  {
   "cell_type": "code",
   "execution_count": 4,
   "id": "b27032c7-1312-445f-b6d6-b31a45141ecc",
   "metadata": {},
   "outputs": [
    {
     "data": {
      "text/plain": [
       "3"
      ]
     },
     "execution_count": 4,
     "metadata": {},
     "output_type": "execute_result"
    }
   ],
   "source": [
    "\n",
    "24//8"
   ]
  },
  {
   "cell_type": "code",
   "execution_count": 5,
   "id": "bca3a056-c4d6-454e-80d7-fff22e312c29",
   "metadata": {},
   "outputs": [
    {
     "data": {
      "text/plain": [
       "30"
      ]
     },
     "execution_count": 5,
     "metadata": {},
     "output_type": "execute_result"
    }
   ],
   "source": [
    "5*6\n"
   ]
  },
  {
   "cell_type": "code",
   "execution_count": 6,
   "id": "0af6b8a3-2f3b-4be6-a6ce-0a426188d8b0",
   "metadata": {},
   "outputs": [
    {
     "data": {
      "text/plain": [
       "14"
      ]
     },
     "execution_count": 6,
     "metadata": {},
     "output_type": "execute_result"
    }
   ],
   "source": [
    "\n",
    "2+12"
   ]
  },
  {
   "cell_type": "code",
   "execution_count": 7,
   "id": "127d2bb6-7118-4abb-8683-2ebf6f0f072f",
   "metadata": {},
   "outputs": [
    {
     "data": {
      "text/plain": [
       "17"
      ]
     },
     "execution_count": 7,
     "metadata": {},
     "output_type": "execute_result"
    }
   ],
   "source": [
    "#This a simple arithmetic expression to mutiply then add integers\n",
    "\n",
    "(3*4)+5"
   ]
  },
  {
   "cell_type": "code",
   "execution_count": 8,
   "id": "d90e546e-46f7-43f2-968f-2961b181ada0",
   "metadata": {},
   "outputs": [
    {
     "data": {
      "text/plain": [
       "3.3333333333333335"
      ]
     },
     "execution_count": 8,
     "metadata": {},
     "output_type": "execute_result"
    }
   ],
   "source": [
    "# his will convert 200 minutes to hours by diving by 60.\n",
    "200/60"
   ]
  },
  {
   "cell_type": "markdown",
   "id": "b086b262-dc40-49e7-9bc7-657cef23a495",
   "metadata": {},
   "source": [
    "## Author\n",
    "\n",
    "\n",
    "## Angelos"
   ]
  },
  {
   "cell_type": "code",
   "execution_count": null,
   "id": "c785f952-cd2c-42f3-ba27-f52bfa54a36e",
   "metadata": {},
   "outputs": [],
   "source": []
  }
 ],
 "metadata": {
  "kernelspec": {
   "display_name": "Python 3 (ipykernel)",
   "language": "python",
   "name": "python3"
  },
  "language_info": {
   "codemirror_mode": {
    "name": "ipython",
    "version": 3
   },
   "file_extension": ".py",
   "mimetype": "text/x-python",
   "name": "python",
   "nbconvert_exporter": "python",
   "pygments_lexer": "ipython3",
   "version": "3.12.0"
  }
 },
 "nbformat": 4,
 "nbformat_minor": 5
}
