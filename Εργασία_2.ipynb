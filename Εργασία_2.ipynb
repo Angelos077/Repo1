{
 "cells": [
  {
   "cell_type": "code",
   "execution_count": 123,
   "id": "18e9ae17",
   "metadata": {},
   "outputs": [],
   "source": [
    "import numpy as np\n",
    "import matplotlib.pyplot as plt\n"
   ]
  },
  {
   "cell_type": "code",
   "execution_count": 124,
   "id": "7a7fef33",
   "metadata": {},
   "outputs": [],
   "source": [
    "# θεσεις λαμπών\n",
    "lamp=[[4.1,20.4,4],[14.1,21.3,3.5],[22.6,17.1,6],[5.5,12.3,4.0],[12.2,9.7,4.0],[15.3,13.8,6],[21.3,10.5,5.5],[3.9,3.3,5.0],[13.1,4.3,5.0],[20.3,4.2,4.5]]"
   ]
  },
  {
   "cell_type": "code",
   "execution_count": 125,
   "id": "6693bf96",
   "metadata": {},
   "outputs": [
    {
     "data": {
      "text/plain": [
       "[[4.1, 20.4, 4],\n",
       " [14.1, 21.3, 3.5],\n",
       " [22.6, 17.1, 6],\n",
       " [5.5, 12.3, 4.0],\n",
       " [12.2, 9.7, 4.0],\n",
       " [15.3, 13.8, 6],\n",
       " [21.3, 10.5, 5.5],\n",
       " [3.9, 3.3, 5.0],\n",
       " [13.1, 4.3, 5.0],\n",
       " [20.3, 4.2, 4.5]]"
      ]
     },
     "execution_count": 125,
     "metadata": {},
     "output_type": "execute_result"
    }
   ],
   "source": [
    "lamp[::]"
   ]
  },
  {
   "cell_type": "code",
   "execution_count": 126,
   "id": "f56d9209",
   "metadata": {},
   "outputs": [],
   "source": [
    "# Ο Πίνακας Α είναι ανάλογος (propotrional) της απόστασης d^-2. Επομένως από την εκφώνηση, ο Α είναι της μορφής Α=zα\n",
    "# όπου z ανήκει στο R και α είναι το κάθε στοιχείο ij του πίνακα που συμβολίζει την απόσταση του pixel της i περιοχης από την j λάμπα.  \n",
    "# Επομένως η εξίσωση Αp=l γίνεται zαp=l. Το a είναι ένας 625x10 πίνακας, το p είναι ένα διάνυσμα 10x1 α΄ρα ο l θα είναι 625x1.\n",
    "# Από την εκφώνηση (για την πρώτη περίπτωση) ο μέσος όρος του l είναι 1. Επομένως z=625/Σl"
   ]
  },
  {
   "cell_type": "code",
   "execution_count": 127,
   "id": "77250fdf",
   "metadata": {},
   "outputs": [],
   "source": [
    "# κατασκευή του Α ως d^-2\n",
    "As = []\n",
    "for q in range(25):\n",
    "    for w in range(25):\n",
    "        \n",
    "        for i,j,h in lamp:\n",
    "            di=(i-(q+0.5))**2+(j-(w+0.5))**2+(h**2)\n",
    "            di=1./di\n",
    "            As.append(di)\n",
    "As=np.array(As)\n",
    "As=As.reshape(625,10)            "
   ]
  },
  {
   "cell_type": "code",
   "execution_count": 128,
   "id": "fe97fd6e",
   "metadata": {},
   "outputs": [
    {
     "data": {
      "text/plain": [
       "(10, 1)"
      ]
     },
     "execution_count": 128,
     "metadata": {},
     "output_type": "execute_result"
    }
   ],
   "source": [
    "# κατασκευή του p=1\n",
    "p=np.ones((10,1))\n",
    "p.shape"
   ]
  },
  {
   "cell_type": "code",
   "execution_count": 129,
   "id": "6a8f8c25",
   "metadata": {},
   "outputs": [
    {
     "name": "stdout",
     "output_type": "stream",
     "text": [
      "Ο συντελεστής είναι \n",
      " 10.420921769912342\n"
     ]
    }
   ],
   "source": [
    "# εύρεση του συντελεστή z και υπολογισμός του \"προσαρμοσμένου\" (ανάλογου) πίνακα Α\n",
    "Ld=np.matmul(As,p)\n",
    "sumL=Ld.sum()\n",
    "z=625/sumL\n",
    "print('Ο συντελεστής είναι','\\n',z)\n",
    "A=z*As"
   ]
  },
  {
   "cell_type": "code",
   "execution_count": 130,
   "id": "186c198b",
   "metadata": {},
   "outputs": [
    {
     "data": {
      "text/plain": [
       "0.9999999999999998"
      ]
     },
     "execution_count": 130,
     "metadata": {},
     "output_type": "execute_result"
    }
   ],
   "source": [
    "# υπολογισμός του L με μέσο όρο 1\n",
    "L=np.matmul(A,p)\n",
    "L.mean()"
   ]
  },
  {
   "cell_type": "code",
   "execution_count": 131,
   "id": "f9b1e616",
   "metadata": {},
   "outputs": [
    {
     "name": "stdout",
     "output_type": "stream",
     "text": [
      "To Rms είναι \n",
      " 0.24094598836847744\n"
     ]
    }
   ],
   "source": [
    "# υπολογισμός του RMS της πρώτης περίπτωσης\n",
    "RMS1=[]\n",
    "L2=np.ones((625,1))\n",
    "for i in range (1,625):\n",
    "    rms=pow((L[i]-L2[i]),2)\n",
    "    RMS1.append(rms)\n",
    "RMS1=np.array(RMS1)\n",
    "r=RMS1.sum()\n",
    "rm=np.sqrt(r)/25\n",
    "print('To Rms είναι','\\n',rm)    "
   ]
  },
  {
   "cell_type": "code",
   "execution_count": 132,
   "id": "00f5a419",
   "metadata": {},
   "outputs": [],
   "source": [
    "lampc=np.matrix(lamp)\n",
    "\n",
    "height=(lampc[:,2]).tolist()    \n",
    "length=np.array(lampc[:,0])    \n",
    "width=np.array(lampc[:,1])\n",
    "\n",
    "\n"
   ]
  },
  {
   "cell_type": "code",
   "execution_count": 133,
   "id": "f7e3e20c",
   "metadata": {},
   "outputs": [
    {
     "data": {
      "image/png": "[encoded data removed]",
      "text/plain": [
       "<Figure size 432x288 with 2 Axes>"
      ]
     },
     "metadata": {
      "needs_background": "light"
     },
     "output_type": "display_data"
    }
   ],
   "source": [
    "# plot της πρώτης περίπτωσης\n",
    "colors=[(0,0,255/255),\n",
    "       (255/255,255/255,0),\n",
    "       (255/255,0,0)\n",
    "       ]\n",
    "\n",
    "from matplotlib.colors import ListedColormap, LinearSegmentedColormap\n",
    "\n",
    "spcmap=LinearSegmentedColormap.from_list('specific colors',colors,N=400)\n",
    "plt.imshow(L.reshape((25,25),order='F'), cmap=spcmap,origin='lower',aspect='equal',)\n",
    "bar=plt.colorbar(orientation='vertical')\n",
    "\n",
    "plt.scatter(length,width,marker=\"o\")\n",
    "for i,j in enumerate(height):\n",
    "    plt.annotate((i+1,j) , (length[i], width[i]))\n",
    "plt.show()\n",
    "        \n",
    "\n",
    "    "
   ]
  },
  {
   "cell_type": "code",
   "execution_count": 134,
   "id": "1278fe8b",
   "metadata": {
    "scrolled": true
   },
   "outputs": [
    {
     "data": {
      "text/plain": [
       "([<matplotlib.axis.YTick at 0x145be28fe20>,\n",
       "  <matplotlib.axis.YTick at 0x145be28f970>,\n",
       "  <matplotlib.axis.YTick at 0x145be286700>],\n",
       " [Text(0, 0, ''), Text(0, 0, ''), Text(0, 0, '')])"
      ]
     },
     "execution_count": 134,
     "metadata": {},
     "output_type": "execute_result"
    },
    {
     "data": {
      "image/png": "[encoded data removed]",
      "text/plain": [
       "<Figure size 432x288 with 1 Axes>"
      ]
     },
     "metadata": {
      "needs_background": "light"
     },
     "output_type": "display_data"
    }
   ],
   "source": [
    "# plot της πρώτης περίπτωσης\n",
    "import matplotlib.pyplot as plt\n",
    "plt.hist(L, density=False, bins=18,color='mediumpurple',edgecolor='white')  \n",
    "plt.ylabel('Regions')\n",
    "plt.xlabel('Intensity')\n",
    "plt.ylim((0,110))\n",
    "plt.xlim((0,2))\n",
    "plt.xticks([0,1,2])\n",
    "plt.yticks([0,50,100])\n"
   ]
  },
  {
   "cell_type": "code",
   "execution_count": 135,
   "id": "c75b2db2",
   "metadata": {},
   "outputs": [
    {
     "name": "stdout",
     "output_type": "stream",
     "text": [
      "To Rms είναι \n",
      " 0.14039048134276055\n"
     ]
    }
   ],
   "source": [
    "# υπολογισμός του RMS της δεύτερης περίπτωσης ( RMS=0.14)\n",
    "L2=np.ones((625,1))\n",
    "P=np.linalg.lstsq(A,L2,rcond=None)[1]\n",
    "P\n",
    "MSE=float(P)\n",
    "MSE\n",
    "RMS=np.sqrt(MSE)/np.sqrt(625)\n",
    "print('To Rms είναι','\\n',RMS)"
   ]
  },
  {
   "cell_type": "code",
   "execution_count": 136,
   "id": "6ea7454f",
   "metadata": {},
   "outputs": [],
   "source": [
    "# plot της δεύτερης περίπτωσης\n",
    "Pest=np.linalg.lstsq(A,L2,rcond=None)[0]\n",
    "Lest=np.matmul(A,Pest)"
   ]
  },
  {
   "cell_type": "code",
   "execution_count": 137,
   "id": "9e27facf",
   "metadata": {},
   "outputs": [
    {
     "data": {
      "image/png": "[encoded data removed]",
      "text/plain": [
       "<Figure size 432x288 with 2 Axes>"
      ]
     },
     "metadata": {
      "needs_background": "light"
     },
     "output_type": "display_data"
    }
   ],
   "source": [
    "# plot της δεύτερης περίπτωσης\n",
    "plt.imshow(Lest.reshape((25,25),order='F'), cmap=spcmap,origin='lower',aspect='equal')\n",
    "bar=plt.colorbar(orientation='vertical')\n",
    "\n",
    "plt.scatter(length,width,marker=\"o\")\n",
    "for i,j in enumerate(height):\n",
    "    plt.annotate((i+1,j) , (length[i], width[i]))\n",
    "plt.show()"
   ]
  },
  {
   "cell_type": "code",
   "execution_count": 138,
   "id": "8b2a7b0d",
   "metadata": {},
   "outputs": [
    {
     "data": {
      "text/plain": [
       "([<matplotlib.axis.YTick at 0x145bdd99d30>,\n",
       "  <matplotlib.axis.YTick at 0x145bcb61490>,\n",
       "  <matplotlib.axis.YTick at 0x145be286e50>],\n",
       " [Text(0, 0, ''), Text(0, 0, ''), Text(0, 0, '')])"
      ]
     },
     "execution_count": 138,
     "metadata": {},
     "output_type": "execute_result"
    },
    {
     "data": {
      "image/png": "[encoded data removed]",
      "text/plain": [
       "<Figure size 432x288 with 1 Axes>"
      ]
     },
     "metadata": {
      "needs_background": "light"
     },
     "output_type": "display_data"
    }
   ],
   "source": [
    "# plot της δεύτερης περίπτωσης\n",
    "import matplotlib.pyplot as plt\n",
    "plt.hist(Lest, density=False, bins=15,color='mediumpurple',edgecolor='white')  \n",
    "plt.ylabel('Regions')\n",
    "plt.xlabel('Intensity')\n",
    "\n",
    "plt.ylim([0,130])\n",
    "plt.xlim([0,2])\n",
    "plt.xticks([0,1,2])\n",
    "plt.yticks([0,50,100])\n"
   ]
  },
  {
   "cell_type": "code",
   "execution_count": null,
   "id": "7ff9d48d",
   "metadata": {},
   "outputs": [],
   "source": []
  },
  {
   "cell_type": "code",
   "execution_count": null,
   "id": "21eb2962",
   "metadata": {},
   "outputs": [],
   "source": []
  },
  {
   "cell_type": "code",
   "execution_count": null,
   "id": "077819dc",
   "metadata": {},
   "outputs": [],
   "source": []
  }
 ],
 "metadata": {
  "kernelspec": {
   "display_name": "Python 3 (ipykernel)",
   "language": "python",
   "name": "python3"
  },
  "language_info": {
   "codemirror_mode": {
    "name": "ipython",
    "version": 3
   },
   "file_extension": ".py",
   "mimetype": "text/x-python",
   "name": "python",
   "nbconvert_exporter": "python",
   "pygments_lexer": "ipython3",
   "version": "3.12.0"
  }
 },
 "nbformat": 4,
 "nbformat_minor": 5
}
